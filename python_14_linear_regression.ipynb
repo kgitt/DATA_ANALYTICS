{
 "cells": [
  {
   "cell_type": "markdown",
   "metadata": {},
   "source": [
    " #### ДЗ\n",
    "1. Разделить дата сет на трейн и тест в отношение 50:50 70:30 80:20 (с перемешиванием)\n",
    "2. Обучать наши модели на трейне. Предсказывать и замерять метрику R^2 и на трейне и на тесте\n",
    "3. Проверить следующие модели, для каждого разделения:\n",
    "    а) sales ~ log_tv + radio\n",
    "    б) sales ~ TV + radio\n",
    "    в) sales ~ TV + radio + newspaper"
   ]
  },
  {
   "cell_type": "code",
   "execution_count": 27,
   "metadata": {},
   "outputs": [],
   "source": [
    "# Common imports\n",
    "import pandas as pd\n",
    "import numpy as np\n",
    "import statsmodels.api as sm\n",
    "#import statsmodels.formula.api as smf\n",
    "import random\n",
    "from sklearn.linear_model import LinearRegression\n",
    "import math\n",
    "\n",
    "\n",
    "# to make this notebook's output stable across runs\n",
    "np.random.seed(42)\n",
    "\n",
    "# To plot pretty figures\n",
    "import matplotlib\n",
    "import matplotlib.pyplot as plt\n",
    "from mpl_toolkits.mplot3d import axes3d\n",
    "%matplotlib inline\n",
    "\n",
    "plt.rcParams['axes.labelsize'] = 14\n",
    "plt.rcParams['xtick.labelsize'] = 12\n",
    "plt.rcParams['ytick.labelsize'] = 12\n",
    "plt.rcParams['figure.figsize'] = (10, 5)"
   ]
  },
  {
   "cell_type": "code",
   "execution_count": 6,
   "metadata": {},
   "outputs": [],
   "source": [
    "from sklearn.preprocessing import StandardScaler, normalize, MinMaxScaler"
   ]
  },
  {
   "cell_type": "code",
   "execution_count": 9,
   "metadata": {
    "scrolled": true
   },
   "outputs": [
    {
     "data": {
      "text/html": [
       "<div>\n",
       "<style scoped>\n",
       "    .dataframe tbody tr th:only-of-type {\n",
       "        vertical-align: middle;\n",
       "    }\n",
       "\n",
       "    .dataframe tbody tr th {\n",
       "        vertical-align: top;\n",
       "    }\n",
       "\n",
       "    .dataframe thead th {\n",
       "        text-align: right;\n",
       "    }\n",
       "</style>\n",
       "<table border=\"1\" class=\"dataframe\">\n",
       "  <thead>\n",
       "    <tr style=\"text-align: right;\">\n",
       "      <th></th>\n",
       "      <th>TV</th>\n",
       "      <th>radio</th>\n",
       "      <th>newspaper</th>\n",
       "      <th>sales</th>\n",
       "    </tr>\n",
       "  </thead>\n",
       "  <tbody>\n",
       "    <tr>\n",
       "      <th>0</th>\n",
       "      <td>230.1</td>\n",
       "      <td>37.8</td>\n",
       "      <td>69.2</td>\n",
       "      <td>22.1</td>\n",
       "    </tr>\n",
       "    <tr>\n",
       "      <th>1</th>\n",
       "      <td>44.5</td>\n",
       "      <td>39.3</td>\n",
       "      <td>45.1</td>\n",
       "      <td>10.4</td>\n",
       "    </tr>\n",
       "    <tr>\n",
       "      <th>2</th>\n",
       "      <td>17.2</td>\n",
       "      <td>45.9</td>\n",
       "      <td>69.3</td>\n",
       "      <td>9.3</td>\n",
       "    </tr>\n",
       "    <tr>\n",
       "      <th>3</th>\n",
       "      <td>151.5</td>\n",
       "      <td>41.3</td>\n",
       "      <td>58.5</td>\n",
       "      <td>18.5</td>\n",
       "    </tr>\n",
       "    <tr>\n",
       "      <th>4</th>\n",
       "      <td>180.8</td>\n",
       "      <td>10.8</td>\n",
       "      <td>58.4</td>\n",
       "      <td>12.9</td>\n",
       "    </tr>\n",
       "  </tbody>\n",
       "</table>\n",
       "</div>"
      ],
      "text/plain": [
       "      TV  radio  newspaper  sales\n",
       "0  230.1   37.8       69.2   22.1\n",
       "1   44.5   39.3       45.1   10.4\n",
       "2   17.2   45.9       69.3    9.3\n",
       "3  151.5   41.3       58.5   18.5\n",
       "4  180.8   10.8       58.4   12.9"
      ]
     },
     "execution_count": 9,
     "metadata": {},
     "output_type": "execute_result"
    }
   ],
   "source": [
    "#download_file(\"http://www-bcf.usc.edu/~gareth/ISL/Advertising.csv\")\n",
    "adv_df = pd.read_csv('http://www-bcf.usc.edu/~gareth/ISL/Advertising.csv', usecols=[1,2,3,4])\n",
    "adv_df.head()"
   ]
  },
  {
   "cell_type": "markdown",
   "metadata": {},
   "source": [
    "#### 1. У нас нет NaN значений и все измерения представлены в float64.  \n",
    "#### 2. Нормализацию данных не делаем, тк линейная регрессия этого не требует"
   ]
  },
  {
   "cell_type": "code",
   "execution_count": 12,
   "metadata": {
    "scrolled": false
   },
   "outputs": [
    {
     "name": "stdout",
     "output_type": "stream",
     "text": [
      "<class 'pandas.core.frame.DataFrame'>\n",
      "RangeIndex: 200 entries, 0 to 199\n",
      "Data columns (total 4 columns):\n",
      "TV           200 non-null float64\n",
      "radio        200 non-null float64\n",
      "newspaper    200 non-null float64\n",
      "sales        200 non-null float64\n",
      "dtypes: float64(4)\n",
      "memory usage: 6.3 KB\n"
     ]
    }
   ],
   "source": [
    "adv_df.info()"
   ]
  },
  {
   "cell_type": "code",
   "execution_count": 52,
   "metadata": {},
   "outputs": [],
   "source": [
    "adv_df['log_tv'] = adv_df.TV.apply(lambda x: math.log(x, 2))"
   ]
  },
  {
   "cell_type": "markdown",
   "metadata": {},
   "source": [
    "__________________\n",
    "__________________\n",
    "## Разделим датасет на трейн и тест в отношение 50:50"
   ]
  },
  {
   "cell_type": "code",
   "execution_count": 113,
   "metadata": {},
   "outputs": [
    {
     "name": "stdout",
     "output_type": "stream",
     "text": [
      "Total transactions in train dataset:  100\n",
      "Total transactions in test dataset:  100\n"
     ]
    }
   ],
   "source": [
    "from sklearn.model_selection import train_test_split\n",
    "\n",
    "adv_train, adv_test = train_test_split(adv_df, test_size=0.5, random_state=42, shuffle=True)\n",
    "\n",
    "print(\"Total transactions in train dataset: \", len(adv_train))\n",
    "print(\"Total transactions in test dataset: \", len(adv_test))"
   ]
  },
  {
   "cell_type": "code",
   "execution_count": 54,
   "metadata": {
    "scrolled": true
   },
   "outputs": [
    {
     "data": {
      "text/html": [
       "<div>\n",
       "<style scoped>\n",
       "    .dataframe tbody tr th:only-of-type {\n",
       "        vertical-align: middle;\n",
       "    }\n",
       "\n",
       "    .dataframe tbody tr th {\n",
       "        vertical-align: top;\n",
       "    }\n",
       "\n",
       "    .dataframe thead th {\n",
       "        text-align: right;\n",
       "    }\n",
       "</style>\n",
       "<table border=\"1\" class=\"dataframe\">\n",
       "  <thead>\n",
       "    <tr style=\"text-align: right;\">\n",
       "      <th></th>\n",
       "      <th>TV</th>\n",
       "      <th>radio</th>\n",
       "      <th>newspaper</th>\n",
       "      <th>sales</th>\n",
       "      <th>log_tv</th>\n",
       "    </tr>\n",
       "  </thead>\n",
       "  <tbody>\n",
       "    <tr>\n",
       "      <th>4</th>\n",
       "      <td>180.8</td>\n",
       "      <td>10.8</td>\n",
       "      <td>58.4</td>\n",
       "      <td>12.9</td>\n",
       "      <td>7.498251</td>\n",
       "    </tr>\n",
       "    <tr>\n",
       "      <th>32</th>\n",
       "      <td>97.2</td>\n",
       "      <td>1.5</td>\n",
       "      <td>30.0</td>\n",
       "      <td>9.6</td>\n",
       "      <td>6.602884</td>\n",
       "    </tr>\n",
       "    <tr>\n",
       "      <th>142</th>\n",
       "      <td>220.5</td>\n",
       "      <td>33.2</td>\n",
       "      <td>37.9</td>\n",
       "      <td>20.1</td>\n",
       "      <td>7.784635</td>\n",
       "    </tr>\n",
       "    <tr>\n",
       "      <th>145</th>\n",
       "      <td>140.3</td>\n",
       "      <td>1.9</td>\n",
       "      <td>9.0</td>\n",
       "      <td>10.3</td>\n",
       "      <td>7.132371</td>\n",
       "    </tr>\n",
       "    <tr>\n",
       "      <th>109</th>\n",
       "      <td>255.4</td>\n",
       "      <td>26.9</td>\n",
       "      <td>5.5</td>\n",
       "      <td>19.8</td>\n",
       "      <td>7.996615</td>\n",
       "    </tr>\n",
       "  </tbody>\n",
       "</table>\n",
       "</div>"
      ],
      "text/plain": [
       "        TV  radio  newspaper  sales    log_tv\n",
       "4    180.8   10.8       58.4   12.9  7.498251\n",
       "32    97.2    1.5       30.0    9.6  6.602884\n",
       "142  220.5   33.2       37.9   20.1  7.784635\n",
       "145  140.3    1.9        9.0   10.3  7.132371\n",
       "109  255.4   26.9        5.5   19.8  7.996615"
      ]
     },
     "execution_count": 54,
     "metadata": {},
     "output_type": "execute_result"
    }
   ],
   "source": [
    "adv_train.head()"
   ]
  },
  {
   "cell_type": "markdown",
   "metadata": {},
   "source": [
    "### Определим фичи и таргет переменную для каждого варианта\n",
    "1. sales ~ log_tv + radio \n",
    "2. sales ~ TV + radio \n",
    "3. sales ~ TV + radio + newspaper"
   ]
  },
  {
   "cell_type": "code",
   "execution_count": 93,
   "metadata": {},
   "outputs": [],
   "source": [
    "x1_train = adv_train.filter(items = ['log_tv', 'radio'])\n",
    "x2_train = adv_train.filter(items = ['TV', 'radio'])\n",
    "x3_train = adv_train.filter(items = ['TV', 'radio','newspaper'])\n",
    "\n",
    "y_train = adv_train['sales']"
   ]
  },
  {
   "cell_type": "code",
   "execution_count": 58,
   "metadata": {
    "scrolled": true
   },
   "outputs": [
    {
     "data": {
      "text/html": [
       "<div>\n",
       "<style scoped>\n",
       "    .dataframe tbody tr th:only-of-type {\n",
       "        vertical-align: middle;\n",
       "    }\n",
       "\n",
       "    .dataframe tbody tr th {\n",
       "        vertical-align: top;\n",
       "    }\n",
       "\n",
       "    .dataframe thead th {\n",
       "        text-align: right;\n",
       "    }\n",
       "</style>\n",
       "<table border=\"1\" class=\"dataframe\">\n",
       "  <thead>\n",
       "    <tr style=\"text-align: right;\">\n",
       "      <th></th>\n",
       "      <th>log_tv</th>\n",
       "      <th>radio</th>\n",
       "    </tr>\n",
       "  </thead>\n",
       "  <tbody>\n",
       "    <tr>\n",
       "      <th>4</th>\n",
       "      <td>7.498251</td>\n",
       "      <td>10.8</td>\n",
       "    </tr>\n",
       "    <tr>\n",
       "      <th>32</th>\n",
       "      <td>6.602884</td>\n",
       "      <td>1.5</td>\n",
       "    </tr>\n",
       "    <tr>\n",
       "      <th>142</th>\n",
       "      <td>7.784635</td>\n",
       "      <td>33.2</td>\n",
       "    </tr>\n",
       "    <tr>\n",
       "      <th>145</th>\n",
       "      <td>7.132371</td>\n",
       "      <td>1.9</td>\n",
       "    </tr>\n",
       "    <tr>\n",
       "      <th>109</th>\n",
       "      <td>7.996615</td>\n",
       "      <td>26.9</td>\n",
       "    </tr>\n",
       "  </tbody>\n",
       "</table>\n",
       "</div>"
      ],
      "text/plain": [
       "       log_tv  radio\n",
       "4    7.498251   10.8\n",
       "32   6.602884    1.5\n",
       "142  7.784635   33.2\n",
       "145  7.132371    1.9\n",
       "109  7.996615   26.9"
      ]
     },
     "execution_count": 58,
     "metadata": {},
     "output_type": "execute_result"
    }
   ],
   "source": [
    "x1.head()"
   ]
  },
  {
   "cell_type": "markdown",
   "metadata": {},
   "source": [
    "### Обучим модели с разными вариантами фичей"
   ]
  },
  {
   "cell_type": "code",
   "execution_count": 94,
   "metadata": {},
   "outputs": [
    {
     "data": {
      "text/plain": [
       "(-7.569208411242698, array([2.49862432, 0.21023826]))"
      ]
     },
     "execution_count": 94,
     "metadata": {},
     "output_type": "execute_result"
    }
   ],
   "source": [
    "#three_x_lm = sm.OLS.from_formula(\"sales ~ log_tv + radio\", adv_train)\n",
    "#расчет метрик\n",
    "# print(\"RSS:\", np.sum(skm.resid ** 2))\n",
    "# print(\"RSE:\", np.sqrt(np.sum(skm.resid ** 2)) / (adv_train.shape[0] - 2 - 1))\n",
    "# print(\"R^2:\", skm.rsquared)\n",
    "\n",
    "\n",
    "skm1 = lm.LinearRegression()\n",
    "# calculate parameters\n",
    "skm1.fit(x1_train, y_train)\n",
    "# show them\n",
    "skm1.intercept_, skm1.coef_\n"
   ]
  },
  {
   "cell_type": "code",
   "execution_count": 95,
   "metadata": {},
   "outputs": [
    {
     "data": {
      "text/plain": [
       "(2.846604985488076, array([0.04379153, 0.20613395]))"
      ]
     },
     "execution_count": 95,
     "metadata": {},
     "output_type": "execute_result"
    }
   ],
   "source": [
    "skm2 = lm.LinearRegression()\n",
    "# calculate parameters\n",
    "skm2.fit(x2_train, y_train)\n",
    "# show them\n",
    "skm2.intercept_, skm2.coef_"
   ]
  },
  {
   "cell_type": "code",
   "execution_count": 96,
   "metadata": {},
   "outputs": [
    {
     "data": {
      "text/plain": [
       "(2.579115525652737, array([0.04359498, 0.19927632, 0.0146631 ]))"
      ]
     },
     "execution_count": 96,
     "metadata": {},
     "output_type": "execute_result"
    }
   ],
   "source": [
    "skm3 = lm.LinearRegression()\n",
    "# calculate parameters\n",
    "skm3.fit(x3_train, y_train)\n",
    "# show them\n",
    "skm3.intercept_, skm3.coef_"
   ]
  },
  {
   "cell_type": "markdown",
   "metadata": {},
   "source": [
    "### Посчитаем R^2 для train"
   ]
  },
  {
   "cell_type": "code",
   "execution_count": 105,
   "metadata": {
    "scrolled": true
   },
   "outputs": [
    {
     "name": "stdout",
     "output_type": "stream",
     "text": [
      "Для sales ~ log_tv + radio, R^2 train =  0.8997594187070235\n",
      "Для sales ~ TV + radio, R^2 train =  0.9020506014720118\n",
      "Для sales ~ TV + radio + newspaper, R^2 train =  0.9042613648908894\n"
     ]
    }
   ],
   "source": [
    "print('Для sales ~ log_tv + radio, R^2 train = ', skm1.score(x1_train, y_train, sample_weight=None))\n",
    "print('Для sales ~ TV + radio, R^2 train = ', skm2.score(x2_train, y_train, sample_weight=None))\n",
    "print('Для sales ~ TV + radio + newspaper, R^2 train = ', skm3.score(x3_train, y_train, sample_weight=None))"
   ]
  },
  {
   "cell_type": "markdown",
   "metadata": {},
   "source": [
    "### Посчитаем R^2 для test"
   ]
  },
  {
   "cell_type": "code",
   "execution_count": 109,
   "metadata": {},
   "outputs": [
    {
     "name": "stdout",
     "output_type": "stream",
     "text": [
      "Для sales ~ log_tv + radio, R^2 train 0.9017771\n",
      "Для sales ~ TV + radio, R^2 train 0.8826436\n",
      "Для sales ~ TV + radio, R^2 train 0.8721005\n"
     ]
    }
   ],
   "source": [
    "print('Для sales ~ log_tv + radio, R^2 train {:.7f}'.format(\n",
    "skm1.score(adv_test[['log_tv','radio']], adv_test['sales'])))\n",
    "\n",
    "print('Для sales ~ TV + radio, R^2 train {:.7f}'.format(\n",
    "skm2.score(adv_test[['TV','radio']], adv_test['sales'])))\n",
    "\n",
    "print('Для sales ~ TV + radio, R^2 train {:.7f}'.format(\n",
    "skm3.score(adv_test[['TV','radio','newspaper']], adv_test['sales'])))\n"
   ]
  },
  {
   "cell_type": "code",
   "execution_count": null,
   "metadata": {},
   "outputs": [],
   "source": []
  },
  {
   "cell_type": "markdown",
   "metadata": {},
   "source": [
    "__________________\n",
    "__________________\n",
    "## Проделаем это же для датафрейма с разделением на обучение и валидацию в пропорции 70:30"
   ]
  },
  {
   "cell_type": "code",
   "execution_count": 112,
   "metadata": {},
   "outputs": [
    {
     "name": "stdout",
     "output_type": "stream",
     "text": [
      "Total transactions in train dataset:  140\n",
      "Total transactions in test dataset:  60\n"
     ]
    }
   ],
   "source": [
    "from sklearn.model_selection import train_test_split\n",
    "\n",
    "adv_train7030, adv_test7030 = train_test_split(adv_df, test_size=0.3, random_state=42, shuffle=True)\n",
    "\n",
    "print(\"Total transactions in train dataset: \", len(adv_train7030))\n",
    "print(\"Total transactions in test dataset: \", len(adv_test7030))"
   ]
  },
  {
   "cell_type": "code",
   "execution_count": 117,
   "metadata": {},
   "outputs": [],
   "source": [
    "x1_train_7030 = adv_train7030.filter(items = ['log_tv', 'radio'])\n",
    "x2_train_7030 = adv_train7030.filter(items = ['TV', 'radio'])\n",
    "x3_train_7030 = adv_train7030.filter(items = ['TV', 'radio','newspaper'])\n",
    "\n",
    "y_train_7030 = adv_train7030['sales']"
   ]
  },
  {
   "cell_type": "markdown",
   "metadata": {},
   "source": [
    "### Обучим модели с разными вариантами фичей и посчитаем коэффициенты b0, b1...bn"
   ]
  },
  {
   "cell_type": "code",
   "execution_count": 118,
   "metadata": {},
   "outputs": [
    {
     "data": {
      "text/plain": [
       "(-8.526874427227629, array([2.63634328, 0.20720484]))"
      ]
     },
     "execution_count": 118,
     "metadata": {},
     "output_type": "execute_result"
    }
   ],
   "source": [
    "skm17030 = lm.LinearRegression()\n",
    "# calculate parameters\n",
    "skm17030.fit(x1_train_7030, y_train_7030)\n",
    "# show them\n",
    "skm17030.intercept_, skm17030.coef_"
   ]
  },
  {
   "cell_type": "code",
   "execution_count": 121,
   "metadata": {},
   "outputs": [
    {
     "data": {
      "text/plain": [
       "(2.8376172369051815, array([0.04407736, 0.20260566]))"
      ]
     },
     "execution_count": 121,
     "metadata": {},
     "output_type": "execute_result"
    }
   ],
   "source": [
    "skm27030 = lm.LinearRegression()\n",
    "# calculate parameters\n",
    "skm27030.fit(x2_train_7030, y_train_7030)\n",
    "# show them\n",
    "skm27030.intercept_, skm27030.coef_"
   ]
  },
  {
   "cell_type": "code",
   "execution_count": 122,
   "metadata": {},
   "outputs": [
    {
     "data": {
      "text/plain": [
       "(2.70894909251591, array([0.04405928, 0.1992875 , 0.00688245]))"
      ]
     },
     "execution_count": 122,
     "metadata": {},
     "output_type": "execute_result"
    }
   ],
   "source": [
    "skm37030 = lm.LinearRegression()\n",
    "# calculate parameters\n",
    "skm37030.fit(x3_train_7030, y_train_7030)\n",
    "# show them\n",
    "skm37030.intercept_, skm37030.coef_"
   ]
  },
  {
   "cell_type": "markdown",
   "metadata": {},
   "source": [
    "### Посчитаем R^2 для train"
   ]
  },
  {
   "cell_type": "code",
   "execution_count": 124,
   "metadata": {},
   "outputs": [
    {
     "name": "stdout",
     "output_type": "stream",
     "text": [
      "Для sales ~ log_tv + radio, R^2 train =  0.8993482542237392\n",
      "Для sales ~ TV + radio, R^2 train =  0.9048377867980043\n",
      "Для sales ~ TV + radio + newspaper, R^2 train =  0.9055159502227753\n"
     ]
    }
   ],
   "source": [
    "print('Для sales ~ log_tv + radio, R^2 train = ', skm17030.score(x1_train_7030, y_train_7030, sample_weight=None))\n",
    "print('Для sales ~ TV + radio, R^2 train = ', skm27030.score(x2_train_7030, y_train_7030, sample_weight=None))\n",
    "print('Для sales ~ TV + radio + newspaper, R^2 train = ', skm37030.score(x3_train_7030, y_train_7030, \n",
    "                                                                         sample_weight=None))"
   ]
  },
  {
   "cell_type": "markdown",
   "metadata": {},
   "source": [
    "### Посчитаем R^2 для test"
   ]
  },
  {
   "cell_type": "code",
   "execution_count": 125,
   "metadata": {},
   "outputs": [
    {
     "name": "stdout",
     "output_type": "stream",
     "text": [
      "Для sales ~ log_tv + radio, R^2 train 0.9143971\n",
      "Для sales ~ TV + radio, R^2 train 0.8656254\n",
      "Для sales ~ TV + radio, R^2 train 0.8609467\n"
     ]
    }
   ],
   "source": [
    "print('Для sales ~ log_tv + radio, R^2 train {:.7f}'.format(\n",
    "skm17030.score(adv_test7030[['log_tv','radio']], adv_test7030['sales'])))\n",
    "\n",
    "print('Для sales ~ TV + radio, R^2 train {:.7f}'.format(\n",
    "skm27030.score(adv_test7030[['TV','radio']], adv_test7030['sales'])))\n",
    "\n",
    "print('Для sales ~ TV + radio, R^2 train {:.7f}'.format(\n",
    "skm37030.score(adv_test7030[['TV','radio','newspaper']], adv_test7030['sales'])))\n"
   ]
  },
  {
   "cell_type": "code",
   "execution_count": null,
   "metadata": {},
   "outputs": [],
   "source": []
  },
  {
   "cell_type": "markdown",
   "metadata": {},
   "source": [
    "__________________\n",
    "__________________\n",
    "## Проделаем это же для датафрейма с разделением на обучение и валидацию в пропорции 80:20"
   ]
  },
  {
   "cell_type": "code",
   "execution_count": 126,
   "metadata": {},
   "outputs": [
    {
     "name": "stdout",
     "output_type": "stream",
     "text": [
      "Total transactions in train dataset:  160\n",
      "Total transactions in test dataset:  40\n"
     ]
    }
   ],
   "source": [
    "from sklearn.model_selection import train_test_split\n",
    "\n",
    "adv_train8020, adv_test8020 = train_test_split(adv_df, test_size=0.2, random_state=42, shuffle=True)\n",
    "\n",
    "print(\"Total transactions in train dataset: \", len(adv_train8020))\n",
    "print(\"Total transactions in test dataset: \", len(adv_test8020))"
   ]
  },
  {
   "cell_type": "code",
   "execution_count": 128,
   "metadata": {},
   "outputs": [],
   "source": [
    "x1_train_8020 = adv_train8020.filter(items = ['log_tv', 'radio'])\n",
    "x2_train_8020 = adv_train8020.filter(items = ['TV', 'radio'])\n",
    "x3_train_8020 = adv_train8020.filter(items = ['TV', 'radio','newspaper'])\n",
    "\n",
    "y_train_8020 = adv_train8020['sales']"
   ]
  },
  {
   "cell_type": "markdown",
   "metadata": {},
   "source": [
    "### Обучим модели с разными вариантами фичей и посчитаем коэффициенты b0, b1...bn"
   ]
  },
  {
   "cell_type": "code",
   "execution_count": 129,
   "metadata": {},
   "outputs": [
    {
     "data": {
      "text/plain": [
       "(-8.83303046475564, array([2.68456332, 0.20432743]))"
      ]
     },
     "execution_count": 129,
     "metadata": {},
     "output_type": "execute_result"
    }
   ],
   "source": [
    "skm18020 = lm.LinearRegression()\n",
    "# calculate parameters\n",
    "skm18020.fit(x1_train_8020, y_train_8020)\n",
    "# show them\n",
    "skm18020.intercept_, skm18020.coef_"
   ]
  },
  {
   "cell_type": "code",
   "execution_count": 130,
   "metadata": {},
   "outputs": [
    {
     "data": {
      "text/plain": [
       "(3.0282552507833014, array([0.0447283 , 0.19066726]))"
      ]
     },
     "execution_count": 130,
     "metadata": {},
     "output_type": "execute_result"
    }
   ],
   "source": [
    "skm28020 = lm.LinearRegression()\n",
    "# calculate parameters\n",
    "skm28020.fit(x2_train_8020, y_train_8020)\n",
    "# show them\n",
    "skm28020.intercept_, skm28020.coef_"
   ]
  },
  {
   "cell_type": "code",
   "execution_count": 131,
   "metadata": {},
   "outputs": [
    {
     "data": {
      "text/plain": [
       "(2.979067338122629, array([0.04472952, 0.18919505, 0.00276111]))"
      ]
     },
     "execution_count": 131,
     "metadata": {},
     "output_type": "execute_result"
    }
   ],
   "source": [
    "skm38020 = lm.LinearRegression()\n",
    "# calculate parameters\n",
    "skm38020.fit(x3_train_8020, y_train_8020)\n",
    "# show them\n",
    "skm38020.intercept_, skm38020.coef_"
   ]
  },
  {
   "cell_type": "markdown",
   "metadata": {},
   "source": [
    "### Посчитаем R^2 для train"
   ]
  },
  {
   "cell_type": "code",
   "execution_count": 133,
   "metadata": {},
   "outputs": [
    {
     "name": "stdout",
     "output_type": "stream",
     "text": [
      "Для sales ~ log_tv + radio, R^2 train =  0.9011051213818659\n",
      "Для sales ~ TV + radio, R^2 train =  0.8955982149747163\n",
      "Для sales ~ TV + radio + newspaper, R^2 train =  0.8957008271017818\n"
     ]
    }
   ],
   "source": [
    "print('Для sales ~ log_tv + radio, R^2 train = ', skm18020.score(x1_train_8020, y_train_8020, sample_weight=None))\n",
    "print('Для sales ~ TV + radio, R^2 train = ', skm28020.score(x2_train_8020, y_train_8020, sample_weight=None))\n",
    "print('Для sales ~ TV + radio + newspaper, R^2 train = ', skm38020.score(x3_train_8020, y_train_8020, \n",
    "                                                                         sample_weight=None))"
   ]
  },
  {
   "cell_type": "markdown",
   "metadata": {},
   "source": [
    "### Посчитаем R^2 для test"
   ]
  },
  {
   "cell_type": "code",
   "execution_count": 134,
   "metadata": {},
   "outputs": [
    {
     "name": "stdout",
     "output_type": "stream",
     "text": [
      "Для sales ~ log_tv + radio, R^2 train 0.9235658\n",
      "Для sales ~ TV + radio, R^2 train 0.9005833\n",
      "Для sales ~ TV + radio, R^2 train 0.8994380\n"
     ]
    }
   ],
   "source": [
    "print('Для sales ~ log_tv + radio, R^2 train {:.7f}'.format(\n",
    "skm18020.score(adv_test8020[['log_tv','radio']], adv_test8020['sales'])))\n",
    "\n",
    "print('Для sales ~ TV + radio, R^2 train {:.7f}'.format(\n",
    "skm28020.score(adv_test8020[['TV','radio']], adv_test8020['sales'])))\n",
    "\n",
    "print('Для sales ~ TV + radio, R^2 train {:.7f}'.format(\n",
    "skm38020.score(adv_test8020[['TV','radio','newspaper']], adv_test8020['sales'])))\n"
   ]
  },
  {
   "cell_type": "code",
   "execution_count": null,
   "metadata": {},
   "outputs": [],
   "source": []
  },
  {
   "cell_type": "markdown",
   "metadata": {},
   "source": [
    "### Вывод:\n",
    "### Максимальную долю объясненной дисперсии R^2 мы получили, разбив множество на трейн и тест в пропорции 80:20.\n",
    "### Лучшая модель: sales ~ log_tv + radio\n",
    "### R^2 = 0.9235658"
   ]
  },
  {
   "cell_type": "code",
   "execution_count": null,
   "metadata": {},
   "outputs": [],
   "source": []
  }
 ],
 "metadata": {
  "kernelspec": {
   "display_name": "Python 3",
   "language": "python",
   "name": "python3"
  },
  "language_info": {
   "codemirror_mode": {
    "name": "ipython",
    "version": 3
   },
   "file_extension": ".py",
   "mimetype": "text/x-python",
   "name": "python",
   "nbconvert_exporter": "python",
   "pygments_lexer": "ipython3",
   "version": "3.7.2"
  }
 },
 "nbformat": 4,
 "nbformat_minor": 2
}
