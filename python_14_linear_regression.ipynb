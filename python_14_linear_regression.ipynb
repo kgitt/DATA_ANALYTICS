{
 "cells": [
  {
   "cell_type": "markdown",
   "metadata": {},
   "source": [
    " #### ДЗ\n",
    "1. Разделить дата сет на трейн и тест в отношение 50:50 70:30 80:20 (с перемешиванием)\n",
    "2. Обучать наши модели на трейне. Предсказывать и замерять метрику R^2 и на трейне и на тесте\n",
    "3. Проверить следующие модели, для каждого разделения:\n",
    "    а) sales ~ log_tv + radio\n",
    "    б) sales ~ TV + radio\n",
    "    в) sales ~ TV + radio + newspaper"
   ]
  },
  {
   "cell_type": "code",
   "execution_count": 144,
   "metadata": {},
   "outputs": [],
   "source": [
    "# Common imports\n",
    "import pandas as pd\n",
    "import numpy as np\n",
    "import statsmodels.api as sm\n",
    "#import statsmodels.formula.api as smf\n",
    "import random\n",
    "from sklearn.linear_model import LinearRegression\n",
    "import math\n",
    "from sklearn.preprocessing import StandardScaler, normalize, MinMaxScaler\n",
    "\n",
    "\n",
    "import matplotlib\n",
    "import matplotlib.pyplot as plt\n",
    "from mpl_toolkits.mplot3d import axes3d\n",
    "%matplotlib inline\n",
    "\n",
    "plt.rcParams['axes.labelsize'] = 14\n",
    "plt.rcParams['xtick.labelsize'] = 12\n",
    "plt.rcParams['ytick.labelsize'] = 12\n",
    "plt.rcParams['figure.figsize'] = (10, 5)"
   ]
  },
  {
   "cell_type": "code",
   "execution_count": 161,
   "metadata": {
    "scrolled": true
   },
   "outputs": [
    {
     "data": {
      "text/html": [
       "<div>\n",
       "<style scoped>\n",
       "    .dataframe tbody tr th:only-of-type {\n",
       "        vertical-align: middle;\n",
       "    }\n",
       "\n",
       "    .dataframe tbody tr th {\n",
       "        vertical-align: top;\n",
       "    }\n",
       "\n",
       "    .dataframe thead th {\n",
       "        text-align: right;\n",
       "    }\n",
       "</style>\n",
       "<table border=\"1\" class=\"dataframe\">\n",
       "  <thead>\n",
       "    <tr style=\"text-align: right;\">\n",
       "      <th></th>\n",
       "      <th>TV</th>\n",
       "      <th>radio</th>\n",
       "      <th>newspaper</th>\n",
       "      <th>sales</th>\n",
       "    </tr>\n",
       "  </thead>\n",
       "  <tbody>\n",
       "    <tr>\n",
       "      <th>0</th>\n",
       "      <td>230.1</td>\n",
       "      <td>37.8</td>\n",
       "      <td>69.2</td>\n",
       "      <td>22.1</td>\n",
       "    </tr>\n",
       "    <tr>\n",
       "      <th>1</th>\n",
       "      <td>44.5</td>\n",
       "      <td>39.3</td>\n",
       "      <td>45.1</td>\n",
       "      <td>10.4</td>\n",
       "    </tr>\n",
       "    <tr>\n",
       "      <th>2</th>\n",
       "      <td>17.2</td>\n",
       "      <td>45.9</td>\n",
       "      <td>69.3</td>\n",
       "      <td>9.3</td>\n",
       "    </tr>\n",
       "    <tr>\n",
       "      <th>3</th>\n",
       "      <td>151.5</td>\n",
       "      <td>41.3</td>\n",
       "      <td>58.5</td>\n",
       "      <td>18.5</td>\n",
       "    </tr>\n",
       "    <tr>\n",
       "      <th>4</th>\n",
       "      <td>180.8</td>\n",
       "      <td>10.8</td>\n",
       "      <td>58.4</td>\n",
       "      <td>12.9</td>\n",
       "    </tr>\n",
       "  </tbody>\n",
       "</table>\n",
       "</div>"
      ],
      "text/plain": [
       "      TV  radio  newspaper  sales\n",
       "0  230.1   37.8       69.2   22.1\n",
       "1   44.5   39.3       45.1   10.4\n",
       "2   17.2   45.9       69.3    9.3\n",
       "3  151.5   41.3       58.5   18.5\n",
       "4  180.8   10.8       58.4   12.9"
      ]
     },
     "execution_count": 161,
     "metadata": {},
     "output_type": "execute_result"
    }
   ],
   "source": [
    "#download_file(\"http://www-bcf.usc.edu/~gareth/ISL/Advertising.csv\")\n",
    "adv_df = pd.read_csv('http://www-bcf.usc.edu/~gareth/ISL/Advertising.csv', usecols=[1,2,3,4])\n",
    "adv_df.head()"
   ]
  },
  {
   "cell_type": "markdown",
   "metadata": {},
   "source": [
    "#### 1. У нас нет NaN значений и все измерения представлены в float64.  "
   ]
  },
  {
   "cell_type": "code",
   "execution_count": 162,
   "metadata": {
    "scrolled": true
   },
   "outputs": [
    {
     "name": "stdout",
     "output_type": "stream",
     "text": [
      "<class 'pandas.core.frame.DataFrame'>\n",
      "RangeIndex: 200 entries, 0 to 199\n",
      "Data columns (total 4 columns):\n",
      "TV           200 non-null float64\n",
      "radio        200 non-null float64\n",
      "newspaper    200 non-null float64\n",
      "sales        200 non-null float64\n",
      "dtypes: float64(4)\n",
      "memory usage: 6.3 KB\n"
     ]
    }
   ],
   "source": [
    "adv_df.info()"
   ]
  },
  {
   "cell_type": "code",
   "execution_count": 163,
   "metadata": {
    "scrolled": true
   },
   "outputs": [],
   "source": [
    "adv_df['log_tv'] = adv_df.TV.apply(lambda x: math.log(x, 2))"
   ]
  },
  {
   "cell_type": "code",
   "execution_count": 164,
   "metadata": {},
   "outputs": [
    {
     "data": {
      "text/html": [
       "<div>\n",
       "<style scoped>\n",
       "    .dataframe tbody tr th:only-of-type {\n",
       "        vertical-align: middle;\n",
       "    }\n",
       "\n",
       "    .dataframe tbody tr th {\n",
       "        vertical-align: top;\n",
       "    }\n",
       "\n",
       "    .dataframe thead th {\n",
       "        text-align: right;\n",
       "    }\n",
       "</style>\n",
       "<table border=\"1\" class=\"dataframe\">\n",
       "  <thead>\n",
       "    <tr style=\"text-align: right;\">\n",
       "      <th></th>\n",
       "      <th>TV</th>\n",
       "      <th>radio</th>\n",
       "      <th>newspaper</th>\n",
       "      <th>sales</th>\n",
       "      <th>log_tv</th>\n",
       "    </tr>\n",
       "  </thead>\n",
       "  <tbody>\n",
       "    <tr>\n",
       "      <th>0</th>\n",
       "      <td>230.1</td>\n",
       "      <td>37.8</td>\n",
       "      <td>69.2</td>\n",
       "      <td>22.1</td>\n",
       "      <td>7.846117</td>\n",
       "    </tr>\n",
       "    <tr>\n",
       "      <th>1</th>\n",
       "      <td>44.5</td>\n",
       "      <td>39.3</td>\n",
       "      <td>45.1</td>\n",
       "      <td>10.4</td>\n",
       "      <td>5.475733</td>\n",
       "    </tr>\n",
       "    <tr>\n",
       "      <th>2</th>\n",
       "      <td>17.2</td>\n",
       "      <td>45.9</td>\n",
       "      <td>69.3</td>\n",
       "      <td>9.3</td>\n",
       "      <td>4.104337</td>\n",
       "    </tr>\n",
       "    <tr>\n",
       "      <th>3</th>\n",
       "      <td>151.5</td>\n",
       "      <td>41.3</td>\n",
       "      <td>58.5</td>\n",
       "      <td>18.5</td>\n",
       "      <td>7.243174</td>\n",
       "    </tr>\n",
       "    <tr>\n",
       "      <th>4</th>\n",
       "      <td>180.8</td>\n",
       "      <td>10.8</td>\n",
       "      <td>58.4</td>\n",
       "      <td>12.9</td>\n",
       "      <td>7.498251</td>\n",
       "    </tr>\n",
       "  </tbody>\n",
       "</table>\n",
       "</div>"
      ],
      "text/plain": [
       "      TV  radio  newspaper  sales    log_tv\n",
       "0  230.1   37.8       69.2   22.1  7.846117\n",
       "1   44.5   39.3       45.1   10.4  5.475733\n",
       "2   17.2   45.9       69.3    9.3  4.104337\n",
       "3  151.5   41.3       58.5   18.5  7.243174\n",
       "4  180.8   10.8       58.4   12.9  7.498251"
      ]
     },
     "execution_count": 164,
     "metadata": {},
     "output_type": "execute_result"
    }
   ],
   "source": [
    "adv_df.head()"
   ]
  },
  {
   "cell_type": "markdown",
   "metadata": {},
   "source": [
    "#### 2. Нормализуем данные"
   ]
  },
  {
   "cell_type": "code",
   "execution_count": 165,
   "metadata": {},
   "outputs": [],
   "source": [
    "adv_df = StandardScaler().fit_transform(adv_df)"
   ]
  },
  {
   "cell_type": "code",
   "execution_count": 166,
   "metadata": {},
   "outputs": [],
   "source": [
    "adv_df = pd.DataFrame(adv_df, columns=['TV', 'radio', 'newspaper', 'sales', 'log_tv']).astype('float64')"
   ]
  },
  {
   "cell_type": "code",
   "execution_count": 167,
   "metadata": {},
   "outputs": [
    {
     "data": {
      "text/html": [
       "<div>\n",
       "<style scoped>\n",
       "    .dataframe tbody tr th:only-of-type {\n",
       "        vertical-align: middle;\n",
       "    }\n",
       "\n",
       "    .dataframe tbody tr th {\n",
       "        vertical-align: top;\n",
       "    }\n",
       "\n",
       "    .dataframe thead th {\n",
       "        text-align: right;\n",
       "    }\n",
       "</style>\n",
       "<table border=\"1\" class=\"dataframe\">\n",
       "  <thead>\n",
       "    <tr style=\"text-align: right;\">\n",
       "      <th></th>\n",
       "      <th>TV</th>\n",
       "      <th>radio</th>\n",
       "      <th>newspaper</th>\n",
       "      <th>sales</th>\n",
       "      <th>log_tv</th>\n",
       "    </tr>\n",
       "  </thead>\n",
       "  <tbody>\n",
       "    <tr>\n",
       "      <th>0</th>\n",
       "      <td>0.969852</td>\n",
       "      <td>0.981522</td>\n",
       "      <td>1.778945</td>\n",
       "      <td>1.552053</td>\n",
       "      <td>0.764261</td>\n",
       "    </tr>\n",
       "    <tr>\n",
       "      <th>1</th>\n",
       "      <td>-1.197376</td>\n",
       "      <td>1.082808</td>\n",
       "      <td>0.669579</td>\n",
       "      <td>-0.696046</td>\n",
       "      <td>-0.874044</td>\n",
       "    </tr>\n",
       "    <tr>\n",
       "      <th>2</th>\n",
       "      <td>-1.516155</td>\n",
       "      <td>1.528463</td>\n",
       "      <td>1.783549</td>\n",
       "      <td>-0.907406</td>\n",
       "      <td>-1.821893</td>\n",
       "    </tr>\n",
       "    <tr>\n",
       "      <th>3</th>\n",
       "      <td>0.052050</td>\n",
       "      <td>1.217855</td>\n",
       "      <td>1.286405</td>\n",
       "      <td>0.860330</td>\n",
       "      <td>0.347533</td>\n",
       "    </tr>\n",
       "    <tr>\n",
       "      <th>4</th>\n",
       "      <td>0.394182</td>\n",
       "      <td>-0.841614</td>\n",
       "      <td>1.281802</td>\n",
       "      <td>-0.215683</td>\n",
       "      <td>0.523831</td>\n",
       "    </tr>\n",
       "  </tbody>\n",
       "</table>\n",
       "</div>"
      ],
      "text/plain": [
       "         TV     radio  newspaper     sales    log_tv\n",
       "0  0.969852  0.981522   1.778945  1.552053  0.764261\n",
       "1 -1.197376  1.082808   0.669579 -0.696046 -0.874044\n",
       "2 -1.516155  1.528463   1.783549 -0.907406 -1.821893\n",
       "3  0.052050  1.217855   1.286405  0.860330  0.347533\n",
       "4  0.394182 -0.841614   1.281802 -0.215683  0.523831"
      ]
     },
     "execution_count": 167,
     "metadata": {},
     "output_type": "execute_result"
    }
   ],
   "source": [
    "adv_df.head()"
   ]
  },
  {
   "cell_type": "markdown",
   "metadata": {},
   "source": [
    "__________________\n",
    "__________________\n",
    "## Разделим датасет на трейн и тест в отношение 50:50"
   ]
  },
  {
   "cell_type": "code",
   "execution_count": 172,
   "metadata": {},
   "outputs": [
    {
     "name": "stdout",
     "output_type": "stream",
     "text": [
      "Total transactions in train dataset:  100\n",
      "Total transactions in test dataset:  100\n"
     ]
    }
   ],
   "source": [
    "from sklearn.model_selection import train_test_split\n",
    "\n",
    "adv_train, adv_test = train_test_split(adv_df, test_size=0.5, random_state=42, shuffle=True)\n",
    "\n",
    "print(\"Total transactions in train dataset: \", len(adv_train))\n",
    "print(\"Total transactions in test dataset: \", len(adv_test))"
   ]
  },
  {
   "cell_type": "code",
   "execution_count": 173,
   "metadata": {
    "scrolled": true
   },
   "outputs": [
    {
     "data": {
      "text/html": [
       "<div>\n",
       "<style scoped>\n",
       "    .dataframe tbody tr th:only-of-type {\n",
       "        vertical-align: middle;\n",
       "    }\n",
       "\n",
       "    .dataframe tbody tr th {\n",
       "        vertical-align: top;\n",
       "    }\n",
       "\n",
       "    .dataframe thead th {\n",
       "        text-align: right;\n",
       "    }\n",
       "</style>\n",
       "<table border=\"1\" class=\"dataframe\">\n",
       "  <thead>\n",
       "    <tr style=\"text-align: right;\">\n",
       "      <th></th>\n",
       "      <th>TV</th>\n",
       "      <th>radio</th>\n",
       "      <th>newspaper</th>\n",
       "      <th>sales</th>\n",
       "      <th>log_tv</th>\n",
       "    </tr>\n",
       "  </thead>\n",
       "  <tbody>\n",
       "    <tr>\n",
       "      <th>4</th>\n",
       "      <td>0.394182</td>\n",
       "      <td>-0.841614</td>\n",
       "      <td>1.281802</td>\n",
       "      <td>-0.215683</td>\n",
       "      <td>0.523831</td>\n",
       "    </tr>\n",
       "    <tr>\n",
       "      <th>32</th>\n",
       "      <td>-0.582005</td>\n",
       "      <td>-1.469583</td>\n",
       "      <td>-0.025502</td>\n",
       "      <td>-0.849762</td>\n",
       "      <td>-0.095007</td>\n",
       "    </tr>\n",
       "    <tr>\n",
       "      <th>142</th>\n",
       "      <td>0.857754</td>\n",
       "      <td>0.670914</td>\n",
       "      <td>0.338150</td>\n",
       "      <td>1.167763</td>\n",
       "      <td>0.721767</td>\n",
       "    </tr>\n",
       "    <tr>\n",
       "      <th>145</th>\n",
       "      <td>-0.078731</td>\n",
       "      <td>-1.442573</td>\n",
       "      <td>-0.992170</td>\n",
       "      <td>-0.715261</td>\n",
       "      <td>0.270951</td>\n",
       "    </tr>\n",
       "    <tr>\n",
       "      <th>109</th>\n",
       "      <td>1.265277</td>\n",
       "      <td>0.245516</td>\n",
       "      <td>-1.153281</td>\n",
       "      <td>1.110119</td>\n",
       "      <td>0.868278</td>\n",
       "    </tr>\n",
       "  </tbody>\n",
       "</table>\n",
       "</div>"
      ],
      "text/plain": [
       "           TV     radio  newspaper     sales    log_tv\n",
       "4    0.394182 -0.841614   1.281802 -0.215683  0.523831\n",
       "32  -0.582005 -1.469583  -0.025502 -0.849762 -0.095007\n",
       "142  0.857754  0.670914   0.338150  1.167763  0.721767\n",
       "145 -0.078731 -1.442573  -0.992170 -0.715261  0.270951\n",
       "109  1.265277  0.245516  -1.153281  1.110119  0.868278"
      ]
     },
     "execution_count": 173,
     "metadata": {},
     "output_type": "execute_result"
    }
   ],
   "source": [
    "adv_train.head()"
   ]
  },
  {
   "cell_type": "markdown",
   "metadata": {},
   "source": [
    "### Определим фичи и таргет переменную для каждого варианта\n",
    "1. sales ~ log_tv + radio \n",
    "2. sales ~ TV + radio \n",
    "3. sales ~ TV + radio + newspaper"
   ]
  },
  {
   "cell_type": "code",
   "execution_count": 174,
   "metadata": {},
   "outputs": [],
   "source": [
    "x1_train = adv_train.filter(items = ['log_tv', 'radio'])\n",
    "x2_train = adv_train.filter(items = ['TV', 'radio'])\n",
    "x3_train = adv_train.filter(items = ['TV', 'radio','newspaper'])\n",
    "\n",
    "y_train = adv_train['sales']"
   ]
  },
  {
   "cell_type": "code",
   "execution_count": 175,
   "metadata": {
    "scrolled": true
   },
   "outputs": [
    {
     "data": {
      "text/html": [
       "<div>\n",
       "<style scoped>\n",
       "    .dataframe tbody tr th:only-of-type {\n",
       "        vertical-align: middle;\n",
       "    }\n",
       "\n",
       "    .dataframe tbody tr th {\n",
       "        vertical-align: top;\n",
       "    }\n",
       "\n",
       "    .dataframe thead th {\n",
       "        text-align: right;\n",
       "    }\n",
       "</style>\n",
       "<table border=\"1\" class=\"dataframe\">\n",
       "  <thead>\n",
       "    <tr style=\"text-align: right;\">\n",
       "      <th></th>\n",
       "      <th>log_tv</th>\n",
       "      <th>radio</th>\n",
       "    </tr>\n",
       "  </thead>\n",
       "  <tbody>\n",
       "    <tr>\n",
       "      <th>4</th>\n",
       "      <td>0.523831</td>\n",
       "      <td>-0.841614</td>\n",
       "    </tr>\n",
       "    <tr>\n",
       "      <th>32</th>\n",
       "      <td>-0.095007</td>\n",
       "      <td>-1.469583</td>\n",
       "    </tr>\n",
       "    <tr>\n",
       "      <th>142</th>\n",
       "      <td>0.721767</td>\n",
       "      <td>0.670914</td>\n",
       "    </tr>\n",
       "    <tr>\n",
       "      <th>145</th>\n",
       "      <td>0.270951</td>\n",
       "      <td>-1.442573</td>\n",
       "    </tr>\n",
       "    <tr>\n",
       "      <th>109</th>\n",
       "      <td>0.868278</td>\n",
       "      <td>0.245516</td>\n",
       "    </tr>\n",
       "  </tbody>\n",
       "</table>\n",
       "</div>"
      ],
      "text/plain": [
       "       log_tv     radio\n",
       "4    0.523831 -0.841614\n",
       "32  -0.095007 -1.469583\n",
       "142  0.721767  0.670914\n",
       "145  0.270951 -1.442573\n",
       "109  0.868278  0.245516"
      ]
     },
     "execution_count": 175,
     "metadata": {},
     "output_type": "execute_result"
    }
   ],
   "source": [
    "x1_train.head()"
   ]
  },
  {
   "cell_type": "markdown",
   "metadata": {},
   "source": [
    "### Обучим модели с разными вариантами фичей"
   ]
  },
  {
   "cell_type": "code",
   "execution_count": 176,
   "metadata": {},
   "outputs": [
    {
     "data": {
      "text/plain": [
       "(0.027066724645702325, array([0.69463157, 0.59825458]))"
      ]
     },
     "execution_count": 176,
     "metadata": {},
     "output_type": "execute_result"
    }
   ],
   "source": [
    "#three_x_lm = sm.OLS.from_formula(\"sales ~ log_tv + radio\", adv_train)\n",
    "#расчет метрик\n",
    "# print(\"RSS:\", np.sum(skm.resid ** 2))\n",
    "# print(\"RSE:\", np.sqrt(np.sum(skm.resid ** 2)) / (adv_train.shape[0] - 2 - 1))\n",
    "# print(\"R^2:\", skm.rsquared)\n",
    "\n",
    "\n",
    "skm1 = lm.LinearRegression()\n",
    "# calculate parameters\n",
    "skm1.fit(x1_train, y_train)\n",
    "# show them\n",
    "skm1.intercept_, skm1.coef_\n"
   ]
  },
  {
   "cell_type": "code",
   "execution_count": 177,
   "metadata": {},
   "outputs": [
    {
     "data": {
      "text/plain": [
       "(0.011302095880275864, array([0.72059786, 0.58657534]))"
      ]
     },
     "execution_count": 177,
     "metadata": {},
     "output_type": "execute_result"
    }
   ],
   "source": [
    "skm2 = lm.LinearRegression()\n",
    "# calculate parameters\n",
    "skm2.fit(x2_train, y_train)\n",
    "# show them\n",
    "skm2.intercept_, skm2.coef_"
   ]
  },
  {
   "cell_type": "code",
   "execution_count": 178,
   "metadata": {},
   "outputs": [
    {
     "data": {
      "text/plain": [
       "(0.009782331467812877, array([0.71736366, 0.56706127, 0.06120647]))"
      ]
     },
     "execution_count": 178,
     "metadata": {},
     "output_type": "execute_result"
    }
   ],
   "source": [
    "skm3 = lm.LinearRegression()\n",
    "# calculate parameters\n",
    "skm3.fit(x3_train, y_train)\n",
    "# show them\n",
    "skm3.intercept_, skm3.coef_"
   ]
  },
  {
   "cell_type": "markdown",
   "metadata": {},
   "source": [
    "### Посчитаем R^2 для train"
   ]
  },
  {
   "cell_type": "code",
   "execution_count": 179,
   "metadata": {
    "scrolled": true
   },
   "outputs": [
    {
     "name": "stdout",
     "output_type": "stream",
     "text": [
      "Для sales ~ log_tv + radio, R^2 train =  0.8997594187070234\n",
      "Для sales ~ TV + radio, R^2 train =  0.9020506014720118\n",
      "Для sales ~ TV + radio + newspaper, R^2 train =  0.9042613648908893\n"
     ]
    }
   ],
   "source": [
    "print('Для sales ~ log_tv + radio, R^2 train = ', skm1.score(x1_train, y_train, sample_weight=None))\n",
    "print('Для sales ~ TV + radio, R^2 train = ', skm2.score(x2_train, y_train, sample_weight=None))\n",
    "print('Для sales ~ TV + radio + newspaper, R^2 train = ', skm3.score(x3_train, y_train, sample_weight=None))"
   ]
  },
  {
   "cell_type": "markdown",
   "metadata": {},
   "source": [
    "### Посчитаем R^2 для test"
   ]
  },
  {
   "cell_type": "code",
   "execution_count": 180,
   "metadata": {},
   "outputs": [
    {
     "name": "stdout",
     "output_type": "stream",
     "text": [
      "Для sales ~ log_tv + radio, R^2 train 0.9017771\n",
      "Для sales ~ TV + radio, R^2 train 0.8826436\n",
      "Для sales ~ TV + radio, R^2 train 0.8721005\n"
     ]
    }
   ],
   "source": [
    "print('Для sales ~ log_tv + radio, R^2 train {:.7f}'.format(\n",
    "skm1.score(adv_test[['log_tv','radio']], adv_test['sales'])))\n",
    "\n",
    "print('Для sales ~ TV + radio, R^2 train {:.7f}'.format(\n",
    "skm2.score(adv_test[['TV','radio']], adv_test['sales'])))\n",
    "\n",
    "print('Для sales ~ TV + radio, R^2 train {:.7f}'.format(\n",
    "skm3.score(adv_test[['TV','radio','newspaper']], adv_test['sales'])))\n"
   ]
  },
  {
   "cell_type": "code",
   "execution_count": null,
   "metadata": {},
   "outputs": [],
   "source": []
  },
  {
   "cell_type": "markdown",
   "metadata": {},
   "source": [
    "__________________\n",
    "__________________\n",
    "## Проделаем это же для датафрейма с разделением на обучение и валидацию в пропорции 70:30"
   ]
  },
  {
   "cell_type": "code",
   "execution_count": 181,
   "metadata": {},
   "outputs": [
    {
     "name": "stdout",
     "output_type": "stream",
     "text": [
      "Total transactions in train dataset:  140\n",
      "Total transactions in test dataset:  60\n"
     ]
    }
   ],
   "source": [
    "from sklearn.model_selection import train_test_split\n",
    "\n",
    "adv_train7030, adv_test7030 = train_test_split(adv_df, test_size=0.3, random_state=42, shuffle=True)\n",
    "\n",
    "print(\"Total transactions in train dataset: \", len(adv_train7030))\n",
    "print(\"Total transactions in test dataset: \", len(adv_test7030))"
   ]
  },
  {
   "cell_type": "code",
   "execution_count": 182,
   "metadata": {},
   "outputs": [],
   "source": [
    "x1_train_7030 = adv_train7030.filter(items = ['log_tv', 'radio'])\n",
    "x2_train_7030 = adv_train7030.filter(items = ['TV', 'radio'])\n",
    "x3_train_7030 = adv_train7030.filter(items = ['TV', 'radio','newspaper'])\n",
    "\n",
    "y_train_7030 = adv_train7030['sales']"
   ]
  },
  {
   "cell_type": "markdown",
   "metadata": {},
   "source": [
    "### Обучим модели с разными вариантами фичей и посчитаем коэффициенты b0, b1...bn"
   ]
  },
  {
   "cell_type": "code",
   "execution_count": 183,
   "metadata": {},
   "outputs": [
    {
     "data": {
      "text/plain": [
       "(0.007859476128131038, array([0.73291821, 0.58962267]))"
      ]
     },
     "execution_count": 183,
     "metadata": {},
     "output_type": "execute_result"
    }
   ],
   "source": [
    "skm17030 = lm.LinearRegression()\n",
    "# calculate parameters\n",
    "skm17030.fit(x1_train_7030, y_train_7030)\n",
    "# show them\n",
    "skm17030.intercept_, skm17030.coef_"
   ]
  },
  {
   "cell_type": "code",
   "execution_count": 184,
   "metadata": {},
   "outputs": [
    {
     "data": {
      "text/plain": [
       "(0.001879392389370682, array([0.72530138, 0.57653524]))"
      ]
     },
     "execution_count": 184,
     "metadata": {},
     "output_type": "execute_result"
    }
   ],
   "source": [
    "skm27030 = lm.LinearRegression()\n",
    "# calculate parameters\n",
    "skm27030.fit(x2_train_7030, y_train_7030)\n",
    "# show them\n",
    "skm27030.intercept_, skm27030.coef_"
   ]
  },
  {
   "cell_type": "code",
   "execution_count": 185,
   "metadata": {},
   "outputs": [
    {
     "data": {
      "text/plain": [
       "(0.00221864064072895, array([0.72500382, 0.56709307, 0.02872862]))"
      ]
     },
     "execution_count": 185,
     "metadata": {},
     "output_type": "execute_result"
    }
   ],
   "source": [
    "skm37030 = lm.LinearRegression()\n",
    "# calculate parameters\n",
    "skm37030.fit(x3_train_7030, y_train_7030)\n",
    "# show them\n",
    "skm37030.intercept_, skm37030.coef_"
   ]
  },
  {
   "cell_type": "markdown",
   "metadata": {},
   "source": [
    "### Посчитаем R^2 для train"
   ]
  },
  {
   "cell_type": "code",
   "execution_count": 186,
   "metadata": {},
   "outputs": [
    {
     "name": "stdout",
     "output_type": "stream",
     "text": [
      "Для sales ~ log_tv + radio, R^2 train =  0.8993482542237392\n",
      "Для sales ~ TV + radio, R^2 train =  0.9048377867980044\n",
      "Для sales ~ TV + radio + newspaper, R^2 train =  0.9055159502227754\n"
     ]
    }
   ],
   "source": [
    "print('Для sales ~ log_tv + radio, R^2 train = ', skm17030.score(x1_train_7030, y_train_7030, sample_weight=None))\n",
    "print('Для sales ~ TV + radio, R^2 train = ', skm27030.score(x2_train_7030, y_train_7030, sample_weight=None))\n",
    "print('Для sales ~ TV + radio + newspaper, R^2 train = ', skm37030.score(x3_train_7030, y_train_7030, \n",
    "                                                                         sample_weight=None))"
   ]
  },
  {
   "cell_type": "markdown",
   "metadata": {},
   "source": [
    "### Посчитаем R^2 для test"
   ]
  },
  {
   "cell_type": "code",
   "execution_count": 187,
   "metadata": {},
   "outputs": [
    {
     "name": "stdout",
     "output_type": "stream",
     "text": [
      "Для sales ~ log_tv + radio, R^2 train 0.9143971\n",
      "Для sales ~ TV + radio, R^2 train 0.8656254\n",
      "Для sales ~ TV + radio, R^2 train 0.8609467\n"
     ]
    }
   ],
   "source": [
    "print('Для sales ~ log_tv + radio, R^2 train {:.7f}'.format(\n",
    "skm17030.score(adv_test7030[['log_tv','radio']], adv_test7030['sales'])))\n",
    "\n",
    "print('Для sales ~ TV + radio, R^2 train {:.7f}'.format(\n",
    "skm27030.score(adv_test7030[['TV','radio']], adv_test7030['sales'])))\n",
    "\n",
    "print('Для sales ~ TV + radio, R^2 train {:.7f}'.format(\n",
    "skm37030.score(adv_test7030[['TV','radio','newspaper']], adv_test7030['sales'])))\n"
   ]
  },
  {
   "cell_type": "code",
   "execution_count": null,
   "metadata": {},
   "outputs": [],
   "source": []
  },
  {
   "cell_type": "markdown",
   "metadata": {},
   "source": [
    "__________________\n",
    "__________________\n",
    "## Проделаем это же для датафрейма с разделением на обучение и валидацию в пропорции 80:20"
   ]
  },
  {
   "cell_type": "code",
   "execution_count": 188,
   "metadata": {},
   "outputs": [
    {
     "name": "stdout",
     "output_type": "stream",
     "text": [
      "Total transactions in train dataset:  160\n",
      "Total transactions in test dataset:  40\n"
     ]
    }
   ],
   "source": [
    "from sklearn.model_selection import train_test_split\n",
    "\n",
    "adv_train8020, adv_test8020 = train_test_split(adv_df, test_size=0.2, random_state=42, shuffle=True)\n",
    "\n",
    "print(\"Total transactions in train dataset: \", len(adv_train8020))\n",
    "print(\"Total transactions in test dataset: \", len(adv_test8020))"
   ]
  },
  {
   "cell_type": "code",
   "execution_count": 189,
   "metadata": {},
   "outputs": [],
   "source": [
    "x1_train_8020 = adv_train8020.filter(items = ['log_tv', 'radio'])\n",
    "x2_train_8020 = adv_train8020.filter(items = ['TV', 'radio'])\n",
    "x3_train_8020 = adv_train8020.filter(items = ['TV', 'radio','newspaper'])\n",
    "\n",
    "y_train_8020 = adv_train8020['sales']"
   ]
  },
  {
   "cell_type": "markdown",
   "metadata": {},
   "source": [
    "### Обучим модели с разными вариантами фичей и посчитаем коэффициенты b0, b1...bn"
   ]
  },
  {
   "cell_type": "code",
   "execution_count": 190,
   "metadata": {},
   "outputs": [
    {
     "data": {
      "text/plain": [
       "(-0.0013781425611843635, array([0.74632365, 0.58143472]))"
      ]
     },
     "execution_count": 190,
     "metadata": {},
     "output_type": "execute_result"
    }
   ],
   "source": [
    "skm18020 = lm.LinearRegression()\n",
    "# calculate parameters\n",
    "skm18020.fit(x1_train_8020, y_train_8020)\n",
    "# show them\n",
    "skm18020.intercept_, skm18020.coef_"
   ]
  },
  {
   "cell_type": "code",
   "execution_count": 191,
   "metadata": {},
   "outputs": [
    {
     "data": {
      "text/plain": [
       "(0.0035354405973982324, array([0.73601268, 0.54256331]))"
      ]
     },
     "execution_count": 191,
     "metadata": {},
     "output_type": "execute_result"
    }
   ],
   "source": [
    "skm28020 = lm.LinearRegression()\n",
    "# calculate parameters\n",
    "skm28020.fit(x2_train_8020, y_train_8020)\n",
    "# show them\n",
    "skm28020.intercept_, skm28020.coef_"
   ]
  },
  {
   "cell_type": "code",
   "execution_count": 192,
   "metadata": {},
   "outputs": [
    {
     "data": {
      "text/plain": [
       "(0.003747646728203463, array([0.73603268, 0.53837398, 0.0115254 ]))"
      ]
     },
     "execution_count": 192,
     "metadata": {},
     "output_type": "execute_result"
    }
   ],
   "source": [
    "skm38020 = lm.LinearRegression()\n",
    "# calculate parameters\n",
    "skm38020.fit(x3_train_8020, y_train_8020)\n",
    "# show them\n",
    "skm38020.intercept_, skm38020.coef_"
   ]
  },
  {
   "cell_type": "markdown",
   "metadata": {},
   "source": [
    "### Посчитаем R^2 для train"
   ]
  },
  {
   "cell_type": "code",
   "execution_count": 193,
   "metadata": {},
   "outputs": [
    {
     "name": "stdout",
     "output_type": "stream",
     "text": [
      "Для sales ~ log_tv + radio, R^2 train =  0.9011051213818659\n",
      "Для sales ~ TV + radio, R^2 train =  0.8955982149747163\n",
      "Для sales ~ TV + radio + newspaper, R^2 train =  0.8957008271017816\n"
     ]
    }
   ],
   "source": [
    "print('Для sales ~ log_tv + radio, R^2 train = ', skm18020.score(x1_train_8020, y_train_8020, sample_weight=None))\n",
    "print('Для sales ~ TV + radio, R^2 train = ', skm28020.score(x2_train_8020, y_train_8020, sample_weight=None))\n",
    "print('Для sales ~ TV + radio + newspaper, R^2 train = ', skm38020.score(x3_train_8020, y_train_8020, \n",
    "                                                                         sample_weight=None))"
   ]
  },
  {
   "cell_type": "markdown",
   "metadata": {},
   "source": [
    "### Посчитаем R^2 для test"
   ]
  },
  {
   "cell_type": "code",
   "execution_count": 194,
   "metadata": {},
   "outputs": [
    {
     "name": "stdout",
     "output_type": "stream",
     "text": [
      "Для sales ~ log_tv + radio, R^2 train 0.9235658\n",
      "Для sales ~ TV + radio, R^2 train 0.9005833\n",
      "Для sales ~ TV + radio, R^2 train 0.8994380\n"
     ]
    }
   ],
   "source": [
    "print('Для sales ~ log_tv + radio, R^2 train {:.7f}'.format(\n",
    "skm18020.score(adv_test8020[['log_tv','radio']], adv_test8020['sales'])))\n",
    "\n",
    "print('Для sales ~ TV + radio, R^2 train {:.7f}'.format(\n",
    "skm28020.score(adv_test8020[['TV','radio']], adv_test8020['sales'])))\n",
    "\n",
    "print('Для sales ~ TV + radio, R^2 train {:.7f}'.format(\n",
    "skm38020.score(adv_test8020[['TV','radio','newspaper']], adv_test8020['sales'])))\n"
   ]
  },
  {
   "cell_type": "code",
   "execution_count": null,
   "metadata": {},
   "outputs": [],
   "source": []
  },
  {
   "cell_type": "markdown",
   "metadata": {},
   "source": [
    "### Вывод:\n",
    "### Максимальную долю объясненной дисперсии R^2 мы получили, разбив множество на трейн и тест в пропорции 80:20.\n",
    "### Лучшая модель: sales ~ log_tv + radio\n",
    "### R^2 = 0.9235658"
   ]
  },
  {
   "cell_type": "code",
   "execution_count": null,
   "metadata": {},
   "outputs": [],
   "source": []
  }
 ],
 "metadata": {
  "kernelspec": {
   "display_name": "Python 3",
   "language": "python",
   "name": "python3"
  },
  "language_info": {
   "codemirror_mode": {
    "name": "ipython",
    "version": 3
   },
   "file_extension": ".py",
   "mimetype": "text/x-python",
   "name": "python",
   "nbconvert_exporter": "python",
   "pygments_lexer": "ipython3",
   "version": "3.7.2"
  }
 },
 "nbformat": 4,
 "nbformat_minor": 2
}
