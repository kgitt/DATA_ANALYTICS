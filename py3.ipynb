{
 "cells": [
  {
   "cell_type": "markdown",
   "metadata": {},
   "source": [
    "### Задание 1\n",
    "Дан список вида:\n",
    "data = [\n",
    "[13, 25, 23, 34],\n",
    "[45, 32, 44, 47],\n",
    "[12, 33, 23, 95],\n",
    "[13, 53, 34, 35],\n",
    "]\n",
    "\n",
    "Напишите функцию, которая возвращает сумму элементов на диагонали. Т. е. 13+32+23+35."
   ]
  },
  {
   "cell_type": "code",
   "execution_count": 10,
   "metadata": {},
   "outputs": [
    {
     "name": "stdout",
     "output_type": "stream",
     "text": [
      "Сумма элементов по диагонали = 103\n"
     ]
    }
   ],
   "source": [
    "data = [\n",
    "[13, 25, 23, 34],\n",
    "[45, 32, 44, 47],\n",
    "[12, 33, 23, 95],\n",
    "[13, 53, 34, 35],\n",
    "]\n",
    "\n",
    "def diagonal(data):\n",
    "    j=0\n",
    "    summa = 0\n",
    "    for i in data:\n",
    "        summa+=i[j]\n",
    "        j+=1\n",
    "    return summa\n",
    "\n",
    "print('Сумма элементов по диагонали =', diagonal(data))\n"
   ]
  },
  {
   "cell_type": "markdown",
   "metadata": {},
   "source": [
    "### Задание 2\n",
    "Дан список чисел, часть из которых имеют строковый тип или содержат буквы. Напишите функцию, которая возвращает сумму квадратов элементов, которые могут быть числами.\n",
    "data = [1, ‘5’, ‘abc’, 20, ‘2’]\n",
    "\n"
   ]
  },
  {
   "cell_type": "code",
   "execution_count": 166,
   "metadata": {},
   "outputs": [
    {
     "name": "stdout",
     "output_type": "stream",
     "text": [
      "Сумма квадратов чисел в списке = 430\n"
     ]
    }
   ],
   "source": [
    "data = [1, '5', 'abc', 20, '2']\n",
    "\n",
    "def NumSquareInList(data):\n",
    "    summa=0\n",
    "    for i in range(len(data)):\n",
    "        data[i] = str(data[i])\n",
    "        if data[i].isdigit()==True:\n",
    "            summa += int(data[i])**2\n",
    "    return(summa)\n",
    "    \n",
    "print('Сумма квадратов чисел в списке =', NumSquareInList(data))   \n"
   ]
  },
  {
   "cell_type": "markdown",
   "metadata": {},
   "source": [
    "### Задание 3\n",
    "Напишите функцию, которая возвращает название валюты (поле ‘Name’) с максимальным значением курса с помощью сервиса \n",
    "https://www.cbr-xml-daily.ru/daily_json.js"
   ]
  },
  {
   "cell_type": "code",
   "execution_count": 165,
   "metadata": {},
   "outputs": [
    {
     "name": "stdout",
     "output_type": "stream",
     "text": [
      "{'Датских крон'}\n"
     ]
    }
   ],
   "source": [
    "r = requests.get('https://www.cbr-xml-daily.ru/daily_json.js')\n",
    "import requests\n",
    "def FindMaximum(r):\n",
    "    dictValues2 = {}\n",
    "    s=r.json()['Valute']\n",
    "    for i in s.values():\n",
    "        dictValues2[i['Name']] = i['Value']\n",
    "    final_dict = {key for key, value in dictValues2.items() if value == max(dictValues2.values())}\n",
    "    return final_dict\n",
    "\n",
    "print(FindMaximum(r))\n"
   ]
  },
  {
   "cell_type": "markdown",
   "metadata": {},
   "source": [
    "### Задание 4\n",
    "Последнее упражнение с занятия\n",
    "\n",
    "Добавьте в класс еще один формат, который возвращает название валюты (например, ‘Евро’).\n",
    "\n",
    "Добавьте в класс параметр diff (со значениями True или False), который в случае значения True в методах eur и usd будет возвращать не курс валюты, а изменение по сравнению в прошлым значением."
   ]
  },
  {
   "cell_type": "code",
   "execution_count": 235,
   "metadata": {},
   "outputs": [
    {
     "name": "stdout",
     "output_type": "stream",
     "text": [
      "Вчерашний курс EUR: 74.573\n",
      "Полное название валюты: Евро\n",
      "Cегодня курс равен: 74.2896\n"
     ]
    }
   ],
   "source": [
    "import requests\n",
    "\n",
    "class Rate:\n",
    "    def __init__(self, format='value', diff='Previous', name='Name'):\n",
    "        self.format = format\n",
    "        self.diff = diff\n",
    "        self.name = name\n",
    "        \n",
    "    def exchange_rates(self):\n",
    "        r = requests.get('https://www.cbr-xml-daily.ru/daily_json.js')\n",
    "        return r.json()['Valute']\n",
    "    \n",
    "    \n",
    "    def make_format(self, currency, diff):\n",
    "\n",
    "        response = self.exchange_rates()\n",
    "        \n",
    "        if currency in response:\n",
    "            if diff == True:\n",
    "                return response[currency]['Previous']\n",
    "            \n",
    "            elif self.format == 'full' and diff == False:\n",
    "                return response[currency]\n",
    "            \n",
    "            elif self.format == 'value' and diff == False:\n",
    "                return response[currency]['Value']\n",
    "            return 'Error'\n",
    "        \n",
    "    def name_format(self, currency):\n",
    "        response = self.exchange_rates()\n",
    "        if currency in response:\n",
    "            return response[currency]['Name']\n",
    "          \n",
    "    \n",
    "    def eur(self, diff):\n",
    "        \"\"\"Возвращает курс евро на сегодня/предыдущее значение в формате self.format\"\"\"\n",
    "        if diff == True:\n",
    "            return self.make_format('EUR', True)\n",
    "        elif diff == False:\n",
    "            return self.make_format('EUR', False)\n",
    "    \n",
    "    \n",
    "    def usd(self):\n",
    "       \n",
    "        if diff == True:\n",
    "            return self.make_format('USD', True)\n",
    "        elif diff == False:\n",
    "            return self.make_format('USD', False)\n",
    "    \n",
    "curs = Rate()\n",
    "curs.eur(True)\n",
    "\n",
    "curs.name_format('USD')\n",
    "\n",
    "print('Вчерашний курс EUR:', curs.eur(True))\n",
    "print('Полное название валюты:', curs.name_format('EUR'))\n",
    "print('Cегодня курс равен:', curs.eur(False))\n"
   ]
  },
  {
   "cell_type": "markdown",
   "metadata": {},
   "source": [
    "### Задание 5\n",
    "Напишите функцию, возвращающую сумму первых n чисел Фибоначчи"
   ]
  },
  {
   "cell_type": "code",
   "execution_count": 236,
   "metadata": {},
   "outputs": [
    {
     "name": "stdout",
     "output_type": "stream",
     "text": [
      "8\n",
      "Для последовательности из 8 чисел Фибоначчи, их сумма равна = 54\n",
      "54\n"
     ]
    }
   ],
   "source": [
    "# Вариант 1 \n",
    "def Fibonacchi(n):\n",
    "    summa = 0\n",
    "    listFib = [0 for i in range(n)]\n",
    "    if n>1:    \n",
    "        listFib[0],listFib[1] = 1,1\n",
    "        for i in range(2,n):\n",
    "            listFib[i] = int(listFib[i-1])+int(listFib[i-2])\n",
    "    elif n==1:\n",
    "        listFib[0] = 1\n",
    "    return listFib\n",
    "\n",
    "n=int(input())\n",
    "print(f'Для последовательности из {n} чисел Фибоначчи, их сумма равна = {sum(Fibonacchi(n))}')  \n",
    "\n",
    "#Вариант 2\n",
    "\n",
    "def Fibnonacchi2(n):\n",
    "    s=0\n",
    "    if n == 0:\n",
    "        s=0\n",
    "    else:\n",
    "        a, b = 0, 1\n",
    "        for i in range(2, n + 1):\n",
    "            a, b = b, a + b\n",
    "            s+=b\n",
    "        s+=1\n",
    "    return(s)\n",
    "print(Fibnonacchi2(n))\n",
    "    "
   ]
  },
  {
   "cell_type": "markdown",
   "metadata": {},
   "source": [
    "### Задание 6\n",
    "Напишите функцию, преобразующую произвольный список вида [‘2018-01-01’, ‘yandex’, ‘cpc’, 100] в словарь {‘2018-01-01’: {‘yandex’: {‘cpc’: 100}}}"
   ]
  },
  {
   "cell_type": "code",
   "execution_count": 167,
   "metadata": {},
   "outputs": [
    {
     "name": "stdout",
     "output_type": "stream",
     "text": [
      "{'2018-01-01': {'yandex': {'cpc': 100}}}\n"
     ]
    }
   ],
   "source": [
    "import copy\n",
    "tl =  ['2018-01-01', 'yandex', 'cpc', 100]\n",
    "\n",
    "def HZ(n):\n",
    "    di,di1 = {},{}\n",
    "    di[tl[len(tl)-2]] = tl[len(tl)-1]\n",
    "    i = len(tl)-3\n",
    "    while i!=-1:\n",
    "        di1[tl[i]]=di\n",
    "        di = copy.copy(di1)\n",
    "        di1 = {}\n",
    "        i -= 1\n",
    "    return di\n",
    "\n",
    "print(HZ(tl))\n",
    "\n",
    "#Буду благодарен за комментарий, как это сделать с помощью рекурсии"
   ]
  }
 ],
 "metadata": {
  "kernelspec": {
   "display_name": "Python 3",
   "language": "python",
   "name": "python3"
  },
  "language_info": {
   "codemirror_mode": {
    "name": "ipython",
    "version": 3
   },
   "file_extension": ".py",
   "mimetype": "text/x-python",
   "name": "python",
   "nbconvert_exporter": "python",
   "pygments_lexer": "ipython3",
   "version": "3.7.2"
  }
 },
 "nbformat": 4,
 "nbformat_minor": 2
}
