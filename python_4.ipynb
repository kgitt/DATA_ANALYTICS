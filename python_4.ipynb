{
 "cells": [
  {
   "cell_type": "markdown",
   "metadata": {},
   "source": [
    "### Задание 1\n",
    "\n",
    "Напишите функцию date_range, которая возвращает список дней между датами start_date и end_date. Даты должны вводиться в формате YYYY-MM-DD.\n",
    "### Задание 2\n",
    "\n",
    "Дополните функцию из первого задания проверкой на корректность дат. В случае неверного формата или если start_date > end_date должен возвращаться пустой список."
   ]
  },
  {
   "cell_type": "code",
   "execution_count": 35,
   "metadata": {},
   "outputs": [
    {
     "name": "stdout",
     "output_type": "stream",
     "text": [
      "2009-05-24\n",
      "2009-05-20\n",
      "[]\n"
     ]
    }
   ],
   "source": [
    "from datetime import datetime\n",
    "from datetime import timedelta\n",
    "def date_range(start_date, end_date):\n",
    "    sp=[]\n",
    "    if start_date > end_date:\n",
    "        return sp\n",
    "    else:\n",
    "        date = start_date\n",
    "        while date <= end_date:\n",
    "            sp += [str(date.day)]\n",
    "            date += timedelta(days=1)\n",
    "        return sp\n",
    "\n",
    "start_date = datetime.strptime( input(), '%Y-%m-%d')\n",
    "end_date = datetime.strptime( input(), '%Y-%m-%d')\n",
    "\n",
    "print(date_range(start_date, end_date))"
   ]
  },
  {
   "cell_type": "markdown",
   "metadata": {},
   "source": [
    "### Задание 3\n",
    "\n",
    "Дан поток дат в формате YYYY-MM-DD, в которых встречаются некорректные значения:\n",
    "stream = [‘2018-04-02’, ‘2018-02-29’, ‘2018-19-02’]\n",
    "Напишите функцию, которая проверяет эти даты на корректность. Т. е. для каждой даты возвращает True (дата корректна) или False (некорректная дата)."
   ]
  },
  {
   "cell_type": "code",
   "execution_count": 56,
   "metadata": {},
   "outputs": [
    {
     "name": "stdout",
     "output_type": "stream",
     "text": [
      "2018-04-02 True\n",
      "2018-02-29 False\n",
      "2018-19-02 False\n"
     ]
    },
    {
     "data": {
      "text/plain": [
       "[True, False, False]"
      ]
     },
     "execution_count": 56,
     "metadata": {},
     "output_type": "execute_result"
    }
   ],
   "source": [
    "stream = ['2018-04-02', '2018-02-29', '2018-19-02']\n",
    "def correctDate(stream):\n",
    "    sp=[]\n",
    "    for i in stream:\n",
    "        try:\n",
    "            date = datetime.strptime(i, '%Y-%m-%d')\n",
    "            print(i,True)\n",
    "            sp+=[True]\n",
    "        except ValueError:\n",
    "            print(i, False)\n",
    "            sp+=[False]\n",
    "    return sp\n",
    "    \n",
    "correctDate(stream)"
   ]
  },
  {
   "cell_type": "markdown",
   "metadata": {},
   "source": [
    "### Задание 4\n",
    "\n",
    "Напишите функцию, которая возвращает список дат с 1 по вчерашний день текущего месяца. Если дан 1 день месяца, то возвращается список дней прошлого месяца."
   ]
  },
  {
   "cell_type": "code",
   "execution_count": 187,
   "metadata": {},
   "outputs": [
    {
     "name": "stdout",
     "output_type": "stream",
     "text": [
      "Введите дату в формате YYYY-mm-dd\n",
      "2019-03-05\n",
      "\n",
      "\n",
      "2019-03-01\n",
      "2019-03-02\n",
      "2019-03-03\n",
      "2019-03-04\n"
     ]
    }
   ],
   "source": [
    "def dayTest(date):\n",
    "    if date.day == 1:\n",
    "        start_date = datetime(day=date.day, year=date.year, month=date.month-1)\n",
    "        while start_date < datetime(day=1, year=date.year, month=date.month):\n",
    "            print(str(start_date)[:10])\n",
    "            start_date+=timedelta(days=1)\n",
    "    else:\n",
    "        start_date = datetime(day=1, year=date.year, month=date.month)\n",
    "        while start_date <= datetime(day=date.day-1, year=date.year, month=date.month):\n",
    "            print(str(start_date)[:10])\n",
    "            start_date+=timedelta(days=1)\n",
    "\n",
    "#Если необходимо используем текущую дату            \n",
    "#date = datetime.today()\n",
    "\n",
    "print('Введите дату в формате YYYY-mm-dd')\n",
    "date = datetime.strptime(input(), '%Y-%m-%d')\n",
    "print('\\n')\n",
    "dayTest(date)\n"
   ]
  },
  {
   "cell_type": "markdown",
   "metadata": {},
   "source": [
    "### Задание 5\n",
    "\n",
    "Напишите функцию, которая возвращает точную дату в формате YYYY-MM-DD по фразе:\n",
    "\n",
    "‘today’ - сегодняшнюю дату\n",
    "‘last monday’ - прошлый понедельник\n",
    "‘last day’ - Последний день текущего месяца"
   ]
  },
  {
   "cell_type": "code",
   "execution_count": 201,
   "metadata": {},
   "outputs": [
    {
     "name": "stdout",
     "output_type": "stream",
     "text": [
      "Сегодняшняя дата 2019-03-14\n",
      "Последний день месяца 2019-03-31\n",
      "Дата прошлого понедельника 2019-03-11\n"
     ]
    }
   ],
   "source": [
    "def NameDate(namedate):\n",
    "    date = datetime.today()\n",
    "    if namedate == 'today':\n",
    "        return str(date)[:10]\n",
    "    elif namedate == 'last day':\n",
    "        return str(datetime(day=date.day, year=date.year, month=date.month+1) + timedelta(days=-date.day))[:10]\n",
    "    elif namedate == 'last monday':\n",
    "        start_date = date\n",
    "        while datetime.weekday(start_date) != 0:\n",
    "            start_date+=timedelta(days=-1)\n",
    "        return str(start_date)[:10]\n",
    "              \n",
    "print('Сегодняшняя дата',NameDate('today'))\n",
    "print('Последний день месяца',NameDate('last day'))\n",
    "print('Дата прошлого понедельника',NameDate('last monday'))\n",
    "\n",
    "#Не понял как убрать время после использования метода .today() поэтому перевел в строку для вывода, соответствующего задаче"
   ]
  }
 ],
 "metadata": {
  "kernelspec": {
   "display_name": "Python 3",
   "language": "python",
   "name": "python3"
  },
  "language_info": {
   "codemirror_mode": {
    "name": "ipython",
    "version": 3
   },
   "file_extension": ".py",
   "mimetype": "text/x-python",
   "name": "python",
   "nbconvert_exporter": "python",
   "pygments_lexer": "ipython3",
   "version": "3.7.2"
  }
 },
 "nbformat": 4,
 "nbformat_minor": 2
}
