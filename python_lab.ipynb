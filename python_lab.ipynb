{
 "cells": [
  {
   "cell_type": "markdown",
   "metadata": {},
   "source": [
    "## 1\n",
    "1.1 Дан   произвольный   список, содержащий только числа.Выведите результат сложения всех чисел больше 10"
   ]
  },
  {
   "cell_type": "code",
   "execution_count": 9,
   "metadata": {},
   "outputs": [
    {
     "data": {
      "text/plain": [
       "600"
      ]
     },
     "execution_count": 9,
     "metadata": {},
     "output_type": "execute_result"
    }
   ],
   "source": [
    "x = [1,2,3,4,5,6,7,8,9,100,200,300]\n",
    "sum([i for i in x if i>10])"
   ]
  },
  {
   "cell_type": "markdown",
   "metadata": {},
   "source": [
    "1.2 Пусть   задан   список, содержащий строки.Выведите все строки, заканчивающиеся буквой r."
   ]
  },
  {
   "cell_type": "code",
   "execution_count": 15,
   "metadata": {},
   "outputs": [
    {
     "data": {
      "text/plain": [
       "['askdasr', 'dfhjhr', 'abrar']"
      ]
     },
     "execution_count": 15,
     "metadata": {},
     "output_type": "execute_result"
    }
   ],
   "source": [
    "x = ['askdasr','asasfasfqw','dfhjhr','sdfsdfsdf212', 'abrar']\n",
    "[i for i in x if i[len(i)-1] == 'r']"
   ]
  },
  {
   "cell_type": "markdown",
   "metadata": {},
   "source": [
    "1.3  Сгенерируйте   и   выведитеcлучайнуюстроку размером 6 символов, содержащуютолько цифры. \n",
    "Строка должна содержать хотя бы однуцифру 3."
   ]
  },
  {
   "cell_type": "code",
   "execution_count": 64,
   "metadata": {},
   "outputs": [
    {
     "name": "stdout",
     "output_type": "stream",
     "text": [
      "235821\n"
     ]
    }
   ],
   "source": [
    "import random\n",
    "\n",
    "b = ''.join([random.choice(string.digits) for i in range(6)])\n",
    "if '3' in b:\n",
    "    print(b)"
   ]
  },
  {
   "cell_type": "markdown",
   "metadata": {},
   "source": [
    "1.4 Пусть   дана строка произвольной длины. Выведите информацию о том,сколько в ней символов и сколько слов"
   ]
  },
  {
   "cell_type": "code",
   "execution_count": 75,
   "metadata": {},
   "outputs": [
    {
     "name": "stdout",
     "output_type": "stream",
     "text": [
      "aljfhd sdlfkhs sdf\n",
      "Количество символов 18 количество слов 3\n"
     ]
    }
   ],
   "source": [
    "s = str(input())\n",
    "print('Количество символов', len(s),'количество слов', len(s.split(' ')))"
   ]
  },
  {
   "cell_type": "markdown",
   "metadata": {},
   "source": [
    "## 2\n",
    "2.1 Пусть   дана матрица чисел размером NхN. Представьте данную матрицу ввиде списка. Выведите результат сложения всех элементов матрицы."
   ]
  },
  {
   "cell_type": "code",
   "execution_count": 135,
   "metadata": {},
   "outputs": [
    {
     "name": "stdout",
     "output_type": "stream",
     "text": [
      "5\n",
      "[[0.7786293117414789, 0.0027908154870788238, 0.18794800645197096, 0.7712970549764335, 0.914299649897235], [0.556055536845334, 0.42437545227886664, 0.24444512561822773, 0.18019106007559216, 0.38151978657758534], [0.6510136702679983, 0.5475253849619428, 0.7141163974660566, 0.3214786032197169, 0.5755543737540278], [0.681913343920465, 0.5181317297432783, 0.4019455313054202, 0.8681302844390869, 0.4779244618344617], [0.7952032570441151, 0.7714283278742381, 0.986597192506677, 0.9546252712554728, 0.7721320832645979]] \n",
      " Cумма элементов 14.479271712807359\n"
     ]
    }
   ],
   "source": [
    "import numpy as np\n",
    "n=int(input())\n",
    "mat = np.random.rand(n,n)\n",
    "s = []\n",
    "print([list(x) for x in mat],'\\n Cумма элементов',mat.sum())\n",
    "\n"
   ]
  },
  {
   "cell_type": "markdown",
   "metadata": {},
   "source": [
    "2.  2 Дана матрица размером NxM. Напишите алгоритм вычисления максимума из сумм элементов каждого столбца"
   ]
  },
  {
   "cell_type": "code",
   "execution_count": 158,
   "metadata": {},
   "outputs": [
    {
     "name": "stdout",
     "output_type": "stream",
     "text": [
      "3\n",
      "4\n"
     ]
    },
    {
     "data": {
      "text/plain": [
       "array([[0.04319495, 0.49694157, 0.30619694, 0.07560643],\n",
       "       [0.16075994, 0.312171  , 0.34638946, 0.31029792],\n",
       "       [0.56321995, 0.8549504 , 0.98868923, 0.10466199]])"
      ]
     },
     "execution_count": 158,
     "metadata": {},
     "output_type": "execute_result"
    }
   ],
   "source": [
    "n = int(input())\n",
    "m = int(input())\n",
    "mat = np.random.rand(n,m)\n",
    "mat"
   ]
  },
  {
   "cell_type": "code",
   "execution_count": 161,
   "metadata": {},
   "outputs": [
    {
     "name": "stdout",
     "output_type": "stream",
     "text": [
      "Максимальный элемент из сумм элементов по столбцам =  2.511521574694975\n"
     ]
    }
   ],
   "source": [
    "print('Максимальный элемент из сумм элементов по столбцам = ',max(sum([mat[:, i] for i in range(m)])))"
   ]
  },
  {
   "cell_type": "markdown",
   "metadata": {},
   "source": [
    "## 3\n",
    "3.1 Пусть   список студентов представлен в виде структуры [[No, ФИО, Возраст,Группа],[No, ФИО, Возраст, Группа],[No, ФИО, Возраст, Группа]]. \n",
    "Преобразуйте список в словарь вида: {No: [ФИО, Возраст, Группа], No:[....], No: [....]}"
   ]
  },
  {
   "cell_type": "code",
   "execution_count": 166,
   "metadata": {},
   "outputs": [
    {
     "name": "stdout",
     "output_type": "stream",
     "text": [
      "{1: ['Onotoliy Vasserman', 19, 99938], 2: ['Alexandr Druz', 50, 937643], 3: ['Philipp Kirkorov', 60, 234232]}\n"
     ]
    }
   ],
   "source": [
    "s = [[1, 'Onotoliy Vasserman',19,99938],[2,'Alexandr Druz',50,937643],[3,'Philipp Kirkorov',60,234232]]\n",
    "d = {}\n",
    "for i in s:\n",
    "    d[i[0]] = i[1:len(i)]\n",
    "print(d)"
   ]
  },
  {
   "cell_type": "markdown",
   "metadata": {},
   "source": [
    "3.2 Напишите алгоритм, позволяющий найти запись в словаре из задачи 3.1 \n",
    "(без преобразования словаря обратно в список) по фамилии и изменить в ней номер группы. \n",
    "Фамилию и новый номер группы необходимо ввести с клавиатуры."
   ]
  },
  {
   "cell_type": "code",
   "execution_count": 186,
   "metadata": {},
   "outputs": [
    {
     "name": "stdout",
     "output_type": "stream",
     "text": [
      "Druz\n",
      "7777\n"
     ]
    }
   ],
   "source": [
    "fam = str(input())\n",
    "nom = int(input())"
   ]
  },
  {
   "cell_type": "code",
   "execution_count": 187,
   "metadata": {},
   "outputs": [
    {
     "data": {
      "text/plain": [
       "{1: ['Onotoliy Vasserman', 19, 99938],\n",
       " 2: ['Alexandr Druz', 50, 7777],\n",
       " 3: ['Philipp Kirkorov', 60, 234232]}"
      ]
     },
     "execution_count": 187,
     "metadata": {},
     "output_type": "execute_result"
    }
   ],
   "source": [
    "for key,value in d.items():\n",
    "    if 'Druz' in value[0].split(' '):\n",
    "        value[-1] = nom\n",
    "d"
   ]
  },
  {
   "cell_type": "markdown",
   "metadata": {},
   "source": [
    "3.  3 Напишите алгоритм, позволяющий аналогично задаче 3.2 изменить возраст студент"
   ]
  },
  {
   "cell_type": "code",
   "execution_count": 189,
   "metadata": {},
   "outputs": [
    {
     "name": "stdout",
     "output_type": "stream",
     "text": [
      "Druz\n",
      "5\n"
     ]
    },
    {
     "data": {
      "text/plain": [
       "{1: ['Onotoliy Vasserman', 19, 99938],\n",
       " 2: ['Alexandr Druz', 5, 7777],\n",
       " 3: ['Philipp Kirkorov', 60, 234232]}"
      ]
     },
     "execution_count": 189,
     "metadata": {},
     "output_type": "execute_result"
    }
   ],
   "source": [
    "fam = str(input())\n",
    "age = int(input())\n",
    "for key,value in d.items():\n",
    "    if 'Druz' in value[0].split(' '):\n",
    "        value[-2] = age\n",
    "d"
   ]
  },
  {
   "cell_type": "code",
   "execution_count": null,
   "metadata": {},
   "outputs": [],
   "source": []
  }
 ],
 "metadata": {
  "kernelspec": {
   "display_name": "Python 3",
   "language": "python",
   "name": "python3"
  },
  "language_info": {
   "codemirror_mode": {
    "name": "ipython",
    "version": 3
   },
   "file_extension": ".py",
   "mimetype": "text/x-python",
   "name": "python",
   "nbconvert_exporter": "python",
   "pygments_lexer": "ipython3",
   "version": "3.7.2"
  }
 },
 "nbformat": 4,
 "nbformat_minor": 2
}
